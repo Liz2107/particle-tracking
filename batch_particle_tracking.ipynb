{
 "cells": [
  {
   "cell_type": "code",
   "execution_count": 1,
   "metadata": {},
   "outputs": [],
   "source": [
    "#import necessary packages\n",
    "import matplotlib as mpl\n",
    "import matplotlib.pyplot as plt\n",
    "import numpy as np\n",
    "import pandas as pd\n",
    "from pandas import DataFrame, Series  # for convenience\n",
    "import pims\n",
    "import trackpy as tp\n",
    "import os\n",
    "import moviepy.editor as moviepy\n",
    "\n",
    "mpl.rcParams.update(mpl.rcParamsDefault)\n"
   ]
  },
  {
   "cell_type": "code",
   "execution_count": 2,
   "metadata": {},
   "outputs": [],
   "source": [
    "#approximate diameter of particle in pixels\n",
    "dia = 61\n",
    "#intensity mass of particle\n",
    "mm = 10000\n",
    "\n",
    "#define function for importing images as grayscale\n",
    "@pims.pipeline\n",
    "def gray(image):\n",
    "    return image[:, :, 1]  # Take just the green channel\n"
   ]
  },
  {
   "cell_type": "code",
   "execution_count": 3,
   "metadata": {},
   "outputs": [
    {
     "name": "stdout",
     "output_type": "stream",
     "text": [
      "Moviepy - Building video 5um_coated_5mT_10Hz_00001.mp4.\n",
      "Moviepy - Writing video 5um_coated_5mT_10Hz_00001.mp4\n",
      "\n"
     ]
    },
    {
     "name": "stderr",
     "output_type": "stream",
     "text": [
      "                                                             \r"
     ]
    },
    {
     "name": "stdout",
     "output_type": "stream",
     "text": [
      "Moviepy - Done !\n",
      "Moviepy - video ready 5um_coated_5mT_10Hz_00001.mp4\n",
      "Moviepy - Building video 5um_coated_5mT_10Hz_00002.mp4.\n",
      "Moviepy - Writing video 5um_coated_5mT_10Hz_00002.mp4\n",
      "\n"
     ]
    },
    {
     "name": "stderr",
     "output_type": "stream",
     "text": [
      "                                                              \r"
     ]
    },
    {
     "name": "stdout",
     "output_type": "stream",
     "text": [
      "Moviepy - Done !\n",
      "Moviepy - video ready 5um_coated_5mT_10Hz_00002.mp4\n",
      "Moviepy - Building video 5um_coated_5mT_10Hz_00003.mp4.\n",
      "Moviepy - Writing video 5um_coated_5mT_10Hz_00003.mp4\n",
      "\n"
     ]
    },
    {
     "name": "stderr",
     "output_type": "stream",
     "text": [
      "                                                              \r"
     ]
    },
    {
     "name": "stdout",
     "output_type": "stream",
     "text": [
      "Moviepy - Done !\n",
      "Moviepy - video ready 5um_coated_5mT_10Hz_00003.mp4\n",
      "Moviepy - Building video 5um_coated_5mT_10Hz_00004.mp4.\n",
      "Moviepy - Writing video 5um_coated_5mT_10Hz_00004.mp4\n",
      "\n"
     ]
    },
    {
     "name": "stderr",
     "output_type": "stream",
     "text": [
      "t: 100%|██████████| 213/213 [00:06<00:00, 41.31it/s, now=None]c:\\Users\\shieldslab\\AppData\\Local\\Programs\\Python\\Python311\\Lib\\site-packages\\moviepy\\video\\io\\ffmpeg_reader.py:123: UserWarning: Warning: in file 5um_coated_5mT_10Hz_00004.wmv, 9560448 bytes wanted but 0 bytes read,at frame 212/213, at time 8.99/9.00 sec. Using the last valid frame instead.\n",
      "  warnings.warn(\"Warning: in file %s, \"%(self.filename)+\n",
      "                                                              \r"
     ]
    },
    {
     "name": "stdout",
     "output_type": "stream",
     "text": [
      "Moviepy - Done !\n",
      "Moviepy - video ready 5um_coated_5mT_10Hz_00004.mp4\n",
      "Moviepy - Building video 5um_coated_5mT_10Hz_00005.mp4.\n",
      "Moviepy - Writing video 5um_coated_5mT_10Hz_00005.mp4\n",
      "\n"
     ]
    },
    {
     "name": "stderr",
     "output_type": "stream",
     "text": [
      "                                                            \r"
     ]
    },
    {
     "name": "stdout",
     "output_type": "stream",
     "text": [
      "Moviepy - Done !\n",
      "Moviepy - video ready 5um_coated_5mT_10Hz_00005.mp4\n",
      "Moviepy - Building video 5um_coated_5mT_11Hz_00001.mp4.\n",
      "Moviepy - Writing video 5um_coated_5mT_11Hz_00001.mp4\n",
      "\n"
     ]
    },
    {
     "name": "stderr",
     "output_type": "stream",
     "text": [
      "t: 100%|██████████| 107/107 [00:04<00:00, 27.06it/s, now=None]c:\\Users\\shieldslab\\AppData\\Local\\Programs\\Python\\Python311\\Lib\\site-packages\\moviepy\\video\\io\\ffmpeg_reader.py:123: UserWarning: Warning: in file 5um_coated_5mT_11Hz_00001.wmv, 9560448 bytes wanted but 0 bytes read,at frame 106/107, at time 7.07/7.07 sec. Using the last valid frame instead.\n",
      "  warnings.warn(\"Warning: in file %s, \"%(self.filename)+\n",
      "                                                              \r"
     ]
    },
    {
     "name": "stdout",
     "output_type": "stream",
     "text": [
      "Moviepy - Done !\n",
      "Moviepy - video ready 5um_coated_5mT_11Hz_00001.mp4\n",
      "Moviepy - Building video 5um_coated_5mT_11Hz_00002.mp4.\n",
      "Moviepy - Writing video 5um_coated_5mT_11Hz_00002.mp4\n",
      "\n"
     ]
    },
    {
     "name": "stderr",
     "output_type": "stream",
     "text": [
      "t:  99%|█████████▉| 98/99 [00:03<00:00, 24.37it/s, now=None]c:\\Users\\shieldslab\\AppData\\Local\\Programs\\Python\\Python311\\Lib\\site-packages\\moviepy\\video\\io\\ffmpeg_reader.py:123: UserWarning: Warning: in file 5um_coated_5mT_11Hz_00002.wmv, 9560448 bytes wanted but 0 bytes read,at frame 98/99, at time 8.17/8.17 sec. Using the last valid frame instead.\n",
      "  warnings.warn(\"Warning: in file %s, \"%(self.filename)+\n",
      "                                                            \r"
     ]
    },
    {
     "name": "stdout",
     "output_type": "stream",
     "text": [
      "Moviepy - Done !\n",
      "Moviepy - video ready 5um_coated_5mT_11Hz_00002.mp4\n",
      "Moviepy - Building video 5um_coated_5mT_11Hz_00003.mp4.\n",
      "Moviepy - Writing video 5um_coated_5mT_11Hz_00003.mp4\n",
      "\n"
     ]
    },
    {
     "name": "stderr",
     "output_type": "stream",
     "text": [
      "                                                            \r"
     ]
    },
    {
     "name": "stdout",
     "output_type": "stream",
     "text": [
      "Moviepy - Done !\n",
      "Moviepy - video ready 5um_coated_5mT_11Hz_00003.mp4\n",
      "Moviepy - Building video 5um_coated_5mT_11Hz_00004.mp4.\n",
      "Moviepy - Writing video 5um_coated_5mT_11Hz_00004.mp4\n",
      "\n"
     ]
    },
    {
     "name": "stderr",
     "output_type": "stream",
     "text": [
      "t:  99%|█████████▉| 110/111 [00:03<00:00, 23.95it/s, now=None]c:\\Users\\shieldslab\\AppData\\Local\\Programs\\Python\\Python311\\Lib\\site-packages\\moviepy\\video\\io\\ffmpeg_reader.py:123: UserWarning: Warning: in file 5um_coated_5mT_11Hz_00004.wmv, 9560448 bytes wanted but 0 bytes read,at frame 110/111, at time 9.17/9.17 sec. Using the last valid frame instead.\n",
      "  warnings.warn(\"Warning: in file %s, \"%(self.filename)+\n",
      "                                                              \r"
     ]
    },
    {
     "name": "stdout",
     "output_type": "stream",
     "text": [
      "Moviepy - Done !\n",
      "Moviepy - video ready 5um_coated_5mT_11Hz_00004.mp4\n",
      "Moviepy - Building video 5um_coated_5mT_11Hz_00005.mp4.\n",
      "Moviepy - Writing video 5um_coated_5mT_11Hz_00005.mp4\n",
      "\n"
     ]
    },
    {
     "name": "stderr",
     "output_type": "stream",
     "text": [
      "                                                              \r"
     ]
    },
    {
     "name": "stdout",
     "output_type": "stream",
     "text": [
      "Moviepy - Done !\n",
      "Moviepy - video ready 5um_coated_5mT_11Hz_00005.mp4\n",
      "Moviepy - Building video 5um_coated_5mT_12Hz_00001.mp4.\n",
      "Moviepy - Writing video 5um_coated_5mT_12Hz_00001.mp4\n",
      "\n"
     ]
    },
    {
     "name": "stderr",
     "output_type": "stream",
     "text": [
      "                                                              \r"
     ]
    },
    {
     "name": "stdout",
     "output_type": "stream",
     "text": [
      "Moviepy - Done !\n",
      "Moviepy - video ready 5um_coated_5mT_12Hz_00001.mp4\n",
      "Moviepy - Building video 5um_coated_5mT_12Hz_00002.mp4.\n",
      "Moviepy - Writing video 5um_coated_5mT_12Hz_00002.mp4\n",
      "\n"
     ]
    },
    {
     "name": "stderr",
     "output_type": "stream",
     "text": [
      "                                                            \r"
     ]
    },
    {
     "name": "stdout",
     "output_type": "stream",
     "text": [
      "Moviepy - Done !\n",
      "Moviepy - video ready 5um_coated_5mT_12Hz_00002.mp4\n",
      "Moviepy - Building video 5um_coated_5mT_12Hz_00003.mp4.\n",
      "Moviepy - Writing video 5um_coated_5mT_12Hz_00003.mp4\n",
      "\n"
     ]
    },
    {
     "name": "stderr",
     "output_type": "stream",
     "text": [
      "                                                            \r"
     ]
    },
    {
     "name": "stdout",
     "output_type": "stream",
     "text": [
      "Moviepy - Done !\n",
      "Moviepy - video ready 5um_coated_5mT_12Hz_00003.mp4\n",
      "Moviepy - Building video 5um_coated_5mT_12Hz_00004.mp4.\n",
      "Moviepy - Writing video 5um_coated_5mT_12Hz_00004.mp4\n",
      "\n"
     ]
    },
    {
     "name": "stderr",
     "output_type": "stream",
     "text": [
      "                                                              \r"
     ]
    },
    {
     "name": "stdout",
     "output_type": "stream",
     "text": [
      "Moviepy - Done !\n",
      "Moviepy - video ready 5um_coated_5mT_12Hz_00004.mp4\n",
      "Moviepy - Building video 5um_coated_5mT_5Hz_00000.mp4.\n",
      "Moviepy - Writing video 5um_coated_5mT_5Hz_00000.mp4\n",
      "\n"
     ]
    },
    {
     "name": "stderr",
     "output_type": "stream",
     "text": [
      "                                                              \r"
     ]
    },
    {
     "name": "stdout",
     "output_type": "stream",
     "text": [
      "Moviepy - Done !\n",
      "Moviepy - video ready 5um_coated_5mT_5Hz_00000.mp4\n",
      "Moviepy - Building video 5um_coated_5mT_5Hz_00001.mp4.\n",
      "Moviepy - Writing video 5um_coated_5mT_5Hz_00001.mp4\n",
      "\n"
     ]
    },
    {
     "name": "stderr",
     "output_type": "stream",
     "text": [
      "                                                              \r"
     ]
    },
    {
     "name": "stdout",
     "output_type": "stream",
     "text": [
      "Moviepy - Done !\n",
      "Moviepy - video ready 5um_coated_5mT_5Hz_00001.mp4\n",
      "Moviepy - Building video 5um_coated_5mT_5Hz_00002.mp4.\n",
      "Moviepy - Writing video 5um_coated_5mT_5Hz_00002.mp4\n",
      "\n"
     ]
    },
    {
     "name": "stderr",
     "output_type": "stream",
     "text": [
      "                                                              \r"
     ]
    },
    {
     "name": "stdout",
     "output_type": "stream",
     "text": [
      "Moviepy - Done !\n",
      "Moviepy - video ready 5um_coated_5mT_5Hz_00002.mp4\n",
      "Moviepy - Building video 5um_coated_5mT_5Hz_00003.mp4.\n",
      "Moviepy - Writing video 5um_coated_5mT_5Hz_00003.mp4\n",
      "\n"
     ]
    },
    {
     "name": "stderr",
     "output_type": "stream",
     "text": [
      "t: 100%|██████████| 148/148 [00:08<00:00, 21.47it/s, now=None]c:\\Users\\shieldslab\\AppData\\Local\\Programs\\Python\\Python311\\Lib\\site-packages\\moviepy\\video\\io\\ffmpeg_reader.py:123: UserWarning: Warning: in file 5um_coated_5mT_5Hz_00003.wmv, 9560448 bytes wanted but 0 bytes read,at frame 147/148, at time 10.89/10.89 sec. Using the last valid frame instead.\n",
      "  warnings.warn(\"Warning: in file %s, \"%(self.filename)+\n",
      "                                                              \r"
     ]
    },
    {
     "name": "stdout",
     "output_type": "stream",
     "text": [
      "Moviepy - Done !\n",
      "Moviepy - video ready 5um_coated_5mT_5Hz_00003.mp4\n",
      "Moviepy - Building video 5um_coated_5mT_5Hz_00004.mp4.\n",
      "Moviepy - Writing video 5um_coated_5mT_5Hz_00004.mp4\n",
      "\n"
     ]
    },
    {
     "name": "stderr",
     "output_type": "stream",
     "text": [
      "t:  99%|█████████▉| 122/123 [00:04<00:00, 18.23it/s, now=None]c:\\Users\\shieldslab\\AppData\\Local\\Programs\\Python\\Python311\\Lib\\site-packages\\moviepy\\video\\io\\ffmpeg_reader.py:123: UserWarning: Warning: in file 5um_coated_5mT_5Hz_00004.wmv, 9560448 bytes wanted but 0 bytes read,at frame 122/123, at time 8.98/9.00 sec. Using the last valid frame instead.\n",
      "  warnings.warn(\"Warning: in file %s, \"%(self.filename)+\n",
      "                                                              \r"
     ]
    },
    {
     "name": "stdout",
     "output_type": "stream",
     "text": [
      "Moviepy - Done !\n",
      "Moviepy - video ready 5um_coated_5mT_5Hz_00004.mp4\n",
      "Moviepy - Building video 5um_coated_5mT_5Hz_00005.mp4.\n",
      "Moviepy - Writing video 5um_coated_5mT_5Hz_00005.mp4\n",
      "\n"
     ]
    },
    {
     "name": "stderr",
     "output_type": "stream",
     "text": [
      "                                                              \r"
     ]
    },
    {
     "name": "stdout",
     "output_type": "stream",
     "text": [
      "Moviepy - Done !\n",
      "Moviepy - video ready 5um_coated_5mT_5Hz_00005.mp4\n",
      "Moviepy - Building video 5um_coated_5mT_6Hz_00001.mp4.\n",
      "Moviepy - Writing video 5um_coated_5mT_6Hz_00001.mp4\n",
      "\n"
     ]
    },
    {
     "name": "stderr",
     "output_type": "stream",
     "text": [
      "                                                              \r"
     ]
    },
    {
     "name": "stdout",
     "output_type": "stream",
     "text": [
      "Moviepy - Done !\n",
      "Moviepy - video ready 5um_coated_5mT_6Hz_00001.mp4\n",
      "Moviepy - Building video 5um_coated_5mT_6Hz_00002.mp4.\n",
      "Moviepy - Writing video 5um_coated_5mT_6Hz_00002.mp4\n",
      "\n"
     ]
    },
    {
     "name": "stderr",
     "output_type": "stream",
     "text": [
      "                                                              \r"
     ]
    },
    {
     "name": "stdout",
     "output_type": "stream",
     "text": [
      "Moviepy - Done !\n",
      "Moviepy - video ready 5um_coated_5mT_6Hz_00002.mp4\n",
      "Moviepy - Building video 5um_coated_5mT_6Hz_00003.mp4.\n",
      "Moviepy - Writing video 5um_coated_5mT_6Hz_00003.mp4\n",
      "\n"
     ]
    },
    {
     "name": "stderr",
     "output_type": "stream",
     "text": [
      "t:  98%|█████████▊| 115/117 [00:04<00:00, 21.13it/s, now=None]c:\\Users\\shieldslab\\AppData\\Local\\Programs\\Python\\Python311\\Lib\\site-packages\\moviepy\\video\\io\\ffmpeg_reader.py:123: UserWarning: Warning: in file 5um_coated_5mT_6Hz_00003.wmv, 9560448 bytes wanted but 0 bytes read,at frame 116/117, at time 8.98/9.00 sec. Using the last valid frame instead.\n",
      "  warnings.warn(\"Warning: in file %s, \"%(self.filename)+\n",
      "                                                              \r"
     ]
    },
    {
     "name": "stdout",
     "output_type": "stream",
     "text": [
      "Moviepy - Done !\n",
      "Moviepy - video ready 5um_coated_5mT_6Hz_00003.mp4\n",
      "Moviepy - Building video 5um_coated_5mT_6Hz_00004.mp4.\n",
      "Moviepy - Writing video 5um_coated_5mT_6Hz_00004.mp4\n",
      "\n"
     ]
    },
    {
     "name": "stderr",
     "output_type": "stream",
     "text": [
      "                                                              \r"
     ]
    },
    {
     "name": "stdout",
     "output_type": "stream",
     "text": [
      "Moviepy - Done !\n",
      "Moviepy - video ready 5um_coated_5mT_6Hz_00004.mp4\n",
      "Moviepy - Building video 5um_coated_5mT_6Hz_00005.mp4.\n",
      "Moviepy - Writing video 5um_coated_5mT_6Hz_00005.mp4\n",
      "\n"
     ]
    },
    {
     "name": "stderr",
     "output_type": "stream",
     "text": [
      "t:  99%|█████████▊| 76/77 [00:02<00:00, 19.03it/s, now=None]c:\\Users\\shieldslab\\AppData\\Local\\Programs\\Python\\Python311\\Lib\\site-packages\\moviepy\\video\\io\\ffmpeg_reader.py:123: UserWarning: Warning: in file 5um_coated_5mT_6Hz_00005.wmv, 9560448 bytes wanted but 0 bytes read,at frame 76/77, at time 6.00/6.00 sec. Using the last valid frame instead.\n",
      "  warnings.warn(\"Warning: in file %s, \"%(self.filename)+\n",
      "                                                            \r"
     ]
    },
    {
     "name": "stdout",
     "output_type": "stream",
     "text": [
      "Moviepy - Done !\n",
      "Moviepy - video ready 5um_coated_5mT_6Hz_00005.mp4\n",
      "Moviepy - Building video 5um_coated_5mT_7Hz_00001.mp4.\n",
      "Moviepy - Writing video 5um_coated_5mT_7Hz_00001.mp4\n",
      "\n"
     ]
    },
    {
     "name": "stderr",
     "output_type": "stream",
     "text": [
      "t: 100%|█████████▉| 1102/1105 [00:25<00:00, 42.33it/s, now=None]c:\\Users\\shieldslab\\AppData\\Local\\Programs\\Python\\Python311\\Lib\\site-packages\\moviepy\\video\\io\\ffmpeg_reader.py:123: UserWarning: Warning: in file 5um_coated_5mT_7Hz_00001.wmv, 9560448 bytes wanted but 0 bytes read,at frame 1104/1105, at time 25.09/25.11 sec. Using the last valid frame instead.\n",
      "  warnings.warn(\"Warning: in file %s, \"%(self.filename)+\n",
      "                                                                \r"
     ]
    },
    {
     "name": "stdout",
     "output_type": "stream",
     "text": [
      "Moviepy - Done !\n",
      "Moviepy - video ready 5um_coated_5mT_7Hz_00001.mp4\n",
      "Moviepy - Building video 5um_coated_5mT_7Hz_00002.mp4.\n",
      "Moviepy - Writing video 5um_coated_5mT_7Hz_00002.mp4\n",
      "\n"
     ]
    },
    {
     "name": "stderr",
     "output_type": "stream",
     "text": [
      "t: 100%|██████████| 106/106 [00:03<00:00, 20.22it/s, now=None]c:\\Users\\shieldslab\\AppData\\Local\\Programs\\Python\\Python311\\Lib\\site-packages\\moviepy\\video\\io\\ffmpeg_reader.py:123: UserWarning: Warning: in file 5um_coated_5mT_7Hz_00002.wmv, 9560448 bytes wanted but 0 bytes read,at frame 105/106, at time 8.08/8.08 sec. Using the last valid frame instead.\n",
      "  warnings.warn(\"Warning: in file %s, \"%(self.filename)+\n",
      "                                                              \r"
     ]
    },
    {
     "name": "stdout",
     "output_type": "stream",
     "text": [
      "Moviepy - Done !\n",
      "Moviepy - video ready 5um_coated_5mT_7Hz_00002.mp4\n",
      "Moviepy - Building video 5um_coated_5mT_7Hz_00003.mp4.\n",
      "Moviepy - Writing video 5um_coated_5mT_7Hz_00003.mp4\n",
      "\n"
     ]
    },
    {
     "name": "stderr",
     "output_type": "stream",
     "text": [
      "t:  98%|█████████▊| 78/80 [00:02<00:00, 25.03it/s, now=None]c:\\Users\\shieldslab\\AppData\\Local\\Programs\\Python\\Python311\\Lib\\site-packages\\moviepy\\video\\io\\ffmpeg_reader.py:123: UserWarning: Warning: in file 5um_coated_5mT_7Hz_00003.wmv, 9560448 bytes wanted but 0 bytes read,at frame 79/80, at time 4.99/5.00 sec. Using the last valid frame instead.\n",
      "  warnings.warn(\"Warning: in file %s, \"%(self.filename)+\n",
      "                                                            \r"
     ]
    },
    {
     "name": "stdout",
     "output_type": "stream",
     "text": [
      "Moviepy - Done !\n",
      "Moviepy - video ready 5um_coated_5mT_7Hz_00003.mp4\n",
      "Moviepy - Building video 5um_coated_5mT_7Hz_00004.mp4.\n",
      "Moviepy - Writing video 5um_coated_5mT_7Hz_00004.mp4\n",
      "\n"
     ]
    },
    {
     "name": "stderr",
     "output_type": "stream",
     "text": [
      "                                                            \r"
     ]
    },
    {
     "name": "stdout",
     "output_type": "stream",
     "text": [
      "Moviepy - Done !\n",
      "Moviepy - video ready 5um_coated_5mT_7Hz_00004.mp4\n",
      "Moviepy - Building video 5um_coated_5mT_7Hz_00005.mp4.\n",
      "Moviepy - Writing video 5um_coated_5mT_7Hz_00005.mp4\n",
      "\n"
     ]
    },
    {
     "name": "stderr",
     "output_type": "stream",
     "text": [
      "                                                              \r"
     ]
    },
    {
     "name": "stdout",
     "output_type": "stream",
     "text": [
      "Moviepy - Done !\n",
      "Moviepy - video ready 5um_coated_5mT_7Hz_00005.mp4\n",
      "Moviepy - Building video 5um_coated_5mT_8Hz_00001.mp4.\n",
      "Moviepy - Writing video 5um_coated_5mT_8Hz_00001.mp4\n",
      "\n"
     ]
    },
    {
     "name": "stderr",
     "output_type": "stream",
     "text": [
      "t: 100%|██████████| 81/81 [00:03<00:00, 19.82it/s, now=None]c:\\Users\\shieldslab\\AppData\\Local\\Programs\\Python\\Python311\\Lib\\site-packages\\moviepy\\video\\io\\ffmpeg_reader.py:123: UserWarning: Warning: in file 5um_coated_5mT_8Hz_00001.wmv, 9560448 bytes wanted but 0 bytes read,at frame 80/81, at time 5.93/5.93 sec. Using the last valid frame instead.\n",
      "  warnings.warn(\"Warning: in file %s, \"%(self.filename)+\n",
      "                                                            \r"
     ]
    },
    {
     "name": "stdout",
     "output_type": "stream",
     "text": [
      "Moviepy - Done !\n",
      "Moviepy - video ready 5um_coated_5mT_8Hz_00001.mp4\n",
      "Moviepy - Building video 5um_coated_5mT_8Hz_00002.mp4.\n",
      "Moviepy - Writing video 5um_coated_5mT_8Hz_00002.mp4\n",
      "\n"
     ]
    },
    {
     "name": "stderr",
     "output_type": "stream",
     "text": [
      "t: 100%|█████████▉| 237/238 [00:06<00:00, 32.37it/s, now=None]c:\\Users\\shieldslab\\AppData\\Local\\Programs\\Python\\Python311\\Lib\\site-packages\\moviepy\\video\\io\\ffmpeg_reader.py:123: UserWarning: Warning: in file 5um_coated_5mT_8Hz_00002.wmv, 9560448 bytes wanted but 0 bytes read,at frame 237/239, at time 7.97/8.00 sec. Using the last valid frame instead.\n",
      "  warnings.warn(\"Warning: in file %s, \"%(self.filename)+\n",
      "                                                              \r"
     ]
    },
    {
     "name": "stdout",
     "output_type": "stream",
     "text": [
      "Moviepy - Done !\n",
      "Moviepy - video ready 5um_coated_5mT_8Hz_00002.mp4\n",
      "Moviepy - Building video 5um_coated_5mT_8Hz_00003.mp4.\n",
      "Moviepy - Writing video 5um_coated_5mT_8Hz_00003.mp4\n",
      "\n"
     ]
    },
    {
     "name": "stderr",
     "output_type": "stream",
     "text": [
      "t: 100%|██████████| 99/99 [00:03<00:00, 25.20it/s, now=None]c:\\Users\\shieldslab\\AppData\\Local\\Programs\\Python\\Python311\\Lib\\site-packages\\moviepy\\video\\io\\ffmpeg_reader.py:123: UserWarning: Warning: in file 5um_coated_5mT_8Hz_00003.wmv, 9560448 bytes wanted but 0 bytes read,at frame 98/99, at time 8.17/8.17 sec. Using the last valid frame instead.\n",
      "  warnings.warn(\"Warning: in file %s, \"%(self.filename)+\n",
      "                                                            \r"
     ]
    },
    {
     "name": "stdout",
     "output_type": "stream",
     "text": [
      "Moviepy - Done !\n",
      "Moviepy - video ready 5um_coated_5mT_8Hz_00003.mp4\n",
      "Moviepy - Building video 5um_coated_5mT_8Hz_00004.mp4.\n",
      "Moviepy - Writing video 5um_coated_5mT_8Hz_00004.mp4\n",
      "\n"
     ]
    },
    {
     "name": "stderr",
     "output_type": "stream",
     "text": [
      "                                                              \r"
     ]
    },
    {
     "name": "stdout",
     "output_type": "stream",
     "text": [
      "Moviepy - Done !\n",
      "Moviepy - video ready 5um_coated_5mT_8Hz_00004.mp4\n",
      "Moviepy - Building video 5um_coated_5mT_8Hz_00005.mp4.\n",
      "Moviepy - Writing video 5um_coated_5mT_8Hz_00005.mp4\n",
      "\n"
     ]
    },
    {
     "name": "stderr",
     "output_type": "stream",
     "text": [
      "                                                              \r"
     ]
    },
    {
     "name": "stdout",
     "output_type": "stream",
     "text": [
      "Moviepy - Done !\n",
      "Moviepy - video ready 5um_coated_5mT_8Hz_00005.mp4\n",
      "Moviepy - Building video 5um_coated_5mT_9Hz_00001.mp4.\n",
      "Moviepy - Writing video 5um_coated_5mT_9Hz_00001.mp4\n",
      "\n"
     ]
    },
    {
     "name": "stderr",
     "output_type": "stream",
     "text": [
      "                                                              \r"
     ]
    },
    {
     "name": "stdout",
     "output_type": "stream",
     "text": [
      "Moviepy - Done !\n",
      "Moviepy - video ready 5um_coated_5mT_9Hz_00001.mp4\n",
      "Moviepy - Building video 5um_coated_5mT_9Hz_00002.mp4.\n",
      "Moviepy - Writing video 5um_coated_5mT_9Hz_00002.mp4\n",
      "\n"
     ]
    },
    {
     "name": "stderr",
     "output_type": "stream",
     "text": [
      "                                                              \r"
     ]
    },
    {
     "name": "stdout",
     "output_type": "stream",
     "text": [
      "Moviepy - Done !\n",
      "Moviepy - video ready 5um_coated_5mT_9Hz_00002.mp4\n",
      "Moviepy - Building video 5um_coated_5mT_9Hz_00003.mp4.\n",
      "Moviepy - Writing video 5um_coated_5mT_9Hz_00003.mp4\n",
      "\n"
     ]
    },
    {
     "name": "stderr",
     "output_type": "stream",
     "text": [
      "t:  97%|█████████▋| 105/108 [00:03<00:00, 19.66it/s, now=None]c:\\Users\\shieldslab\\AppData\\Local\\Programs\\Python\\Python311\\Lib\\site-packages\\moviepy\\video\\io\\ffmpeg_reader.py:123: UserWarning: Warning: in file 5um_coated_5mT_9Hz_00003.wmv, 9560448 bytes wanted but 0 bytes read,at frame 107/108, at time 7.93/7.93 sec. Using the last valid frame instead.\n",
      "  warnings.warn(\"Warning: in file %s, \"%(self.filename)+\n",
      "                                                              \r"
     ]
    },
    {
     "name": "stdout",
     "output_type": "stream",
     "text": [
      "Moviepy - Done !\n",
      "Moviepy - video ready 5um_coated_5mT_9Hz_00003.mp4\n",
      "Moviepy - Building video 5um_coated_5mT_9Hz_00004.mp4.\n",
      "Moviepy - Writing video 5um_coated_5mT_9Hz_00004.mp4\n",
      "\n"
     ]
    },
    {
     "name": "stderr",
     "output_type": "stream",
     "text": [
      "t:  98%|█████████▊| 131/133 [00:03<00:00, 32.17it/s, now=None]c:\\Users\\shieldslab\\AppData\\Local\\Programs\\Python\\Python311\\Lib\\site-packages\\moviepy\\video\\io\\ffmpeg_reader.py:123: UserWarning: Warning: in file 5um_coated_5mT_9Hz_00004.wmv, 9560448 bytes wanted but 0 bytes read,at frame 132/133, at time 9.00/9.00 sec. Using the last valid frame instead.\n",
      "  warnings.warn(\"Warning: in file %s, \"%(self.filename)+\n",
      "                                                              \r"
     ]
    },
    {
     "name": "stdout",
     "output_type": "stream",
     "text": [
      "Moviepy - Done !\n",
      "Moviepy - video ready 5um_coated_5mT_9Hz_00004.mp4\n",
      "Moviepy - Building video 5um_coated_5mT_9Hz_00005.mp4.\n",
      "Moviepy - Writing video 5um_coated_5mT_9Hz_00005.mp4\n",
      "\n"
     ]
    },
    {
     "name": "stderr",
     "output_type": "stream",
     "text": [
      "                                                              \r"
     ]
    },
    {
     "name": "stdout",
     "output_type": "stream",
     "text": [
      "Moviepy - Done !\n",
      "Moviepy - video ready 5um_coated_5mT_9Hz_00005.mp4\n"
     ]
    }
   ],
   "source": [
    "#if stored in a separate directory, just include that in the call to listdir\n",
    "video_names_wmv = [f for f in os.listdir('.') if f.endswith('.wmv')]\n",
    "for v in video_names_wmv:\n",
    "    clip = moviepy.VideoFileClip(v)\n",
    "    s = v[0:-4] + '.mp4'\n",
    "    clip.write_videofile(s)"
   ]
  },
  {
   "cell_type": "code",
   "execution_count": 4,
   "metadata": {},
   "outputs": [
    {
     "name": "stdout",
     "output_type": "stream",
     "text": [
      "['5um_coated_5mT_10Hz_00001.mp4', '5um_coated_5mT_10Hz_00002.mp4', '5um_coated_5mT_10Hz_00003.mp4', '5um_coated_5mT_10Hz_00004.mp4', '5um_coated_5mT_10Hz_00005.mp4', '5um_coated_5mT_11Hz_00001.mp4', '5um_coated_5mT_11Hz_00002.mp4', '5um_coated_5mT_11Hz_00003.mp4', '5um_coated_5mT_11Hz_00004.mp4', '5um_coated_5mT_11Hz_00005.mp4', '5um_coated_5mT_12Hz_00001.mp4', '5um_coated_5mT_12Hz_00002.mp4', '5um_coated_5mT_12Hz_00003.mp4', '5um_coated_5mT_12Hz_00004.mp4', '5um_coated_5mT_5Hz_00000.mp4', '5um_coated_5mT_5Hz_00001.mp4', '5um_coated_5mT_5Hz_00002.mp4', '5um_coated_5mT_5Hz_00003.mp4', '5um_coated_5mT_5Hz_00004.mp4', '5um_coated_5mT_5Hz_00005.mp4', '5um_coated_5mT_6Hz_00001.mp4', '5um_coated_5mT_6Hz_00002.mp4', '5um_coated_5mT_6Hz_00003.mp4', '5um_coated_5mT_6Hz_00004.mp4', '5um_coated_5mT_6Hz_00005.mp4', '5um_coated_5mT_7Hz_00001.mp4', '5um_coated_5mT_7Hz_00002.mp4', '5um_coated_5mT_7Hz_00003.mp4', '5um_coated_5mT_7Hz_00004.mp4', '5um_coated_5mT_7Hz_00005.mp4', '5um_coated_5mT_8Hz_00001.mp4', '5um_coated_5mT_8Hz_00002.mp4', '5um_coated_5mT_8Hz_00003.mp4', '5um_coated_5mT_8Hz_00004.mp4', '5um_coated_5mT_8Hz_00005.mp4', '5um_coated_5mT_9Hz_00001.mp4', '5um_coated_5mT_9Hz_00002.mp4', '5um_coated_5mT_9Hz_00003.mp4', '5um_coated_5mT_9Hz_00004.mp4', '5um_coated_5mT_9Hz_00005.mp4']\n"
     ]
    }
   ],
   "source": [
    "video_names = [f for f in os.listdir('.') if f.endswith('.mp4')]\n",
    "print(video_names)"
   ]
  },
  {
   "cell_type": "code",
   "execution_count": 5,
   "metadata": {},
   "outputs": [
    {
     "name": "stderr",
     "output_type": "stream",
     "text": [
      "c:\\Users\\shieldslab\\AppData\\Local\\Programs\\Python\\Python311\\Lib\\site-packages\\pims\\api.py:204: UserWarning: <class 'pims.pyav_reader.PyAVReaderTimed'> errored: 'NoneType' object has no attribute 'open'\n",
      "  warn(message)\n",
      "c:\\Users\\shieldslab\\AppData\\Local\\Programs\\Python\\Python311\\Lib\\site-packages\\pims\\api.py:204: UserWarning: <class 'pims.pyav_reader.PyAVReaderIndexed'> errored: 'NoneType' object has no attribute 'open'\n",
      "  warn(message)\n",
      "Exception ignored in: <function PyAVReaderIndexed.__del__ at 0x000001D5749DD620>\n",
      "Traceback (most recent call last):\n",
      "  File \"c:\\Users\\shieldslab\\AppData\\Local\\Programs\\Python\\Python311\\Lib\\site-packages\\pims\\pyav_reader.py\", line 365, in __del__\n",
      "    self._container.close()\n",
      "    ^^^^^^^^^^^^^^^^^^^^^\n",
      "AttributeError: 'NoneType' object has no attribute 'close'\n"
     ]
    },
    {
     "data": {
      "image/png": "[encoded data removed]",
      "text/plain": [
       "<Figure size 640x480 with 1 Axes>"
      ]
     },
     "metadata": {},
     "output_type": "display_data"
    },
    {
     "data": {
      "text/plain": [
       "<Axes: >"
      ]
     },
     "execution_count": 5,
     "metadata": {},
     "output_type": "execute_result"
    }
   ],
   "source": [
    "#test diameter and minmass parameters, adjust as necessary\n",
    "frames = gray(pims.open(video_names[0]))\n",
    "f = tp.locate(frames[0], dia, invert=True, minmass=mm)\n",
    "tp.annotate(f, frames[0])"
   ]
  },
  {
   "cell_type": "code",
   "execution_count": 9,
   "metadata": {},
   "outputs": [
    {
     "name": "stdout",
     "output_type": "stream",
     "text": [
      "Frame 2: 6 features\n"
     ]
    }
   ],
   "source": [
    "for video_name in video_names:\n",
    "    print(video_name) #indicates current progress\n",
    "    f = tp.batch(frames[:], dia, minmass=mm, invert=True, processes = 1)\n",
    "    print(\"Completed batch step for\", video_name)\n",
    "    f.to_csv(video_name+'_locate.csv', index=False)\n",
    "    t = tp.link_df(f, 50,memory = 20)\n",
    "    t.to_csv(video_name+'_trajectory.csv', index=False)\n",
    "    \n",
    "    t = pd.read_csv(video_name + '_trajectory.csv')\n",
    "    t.head()\n",
    "    print(\"calculating velocities for\" + video_name)\n",
    "    #go through and calculate velocities + save image of trajectories for each track\n",
    "    n = len(pd.unique(t['particle']))\n",
    "\n",
    "    for i in range(n):\n",
    "        fig,ax = plt.subplots(nrows = 3,ncols = 1,figsize = (8,18))\n",
    "\n",
    "        t2 = t[(t[\"particle\"]==i)]\n",
    "\n",
    "        x = t2[\"x\"]\n",
    "        y = t2[\"y\"]\n",
    "        time = t2[\"frame\"]\n",
    "        if len(time) == 0:\n",
    "            print(f\"particle {i} did not have frame data\")\n",
    "        else:\n",
    "            time_numpy = time.to_numpy()\n",
    "            if len(frames) <= time_numpy[0]:\n",
    "                continue\n",
    "            mx = np.polyfit(time, x, 1)\n",
    "            my = np.polyfit(time,y, 1)\n",
    "            vx =  mx[0]\n",
    "            vy =  my[0]\n",
    "            v = np.sqrt(vx**2 + vy**2)\n",
    "\n",
    "            \n",
    "            c = ax[0].scatter(x,y,c = time,cmap = \"plasma\")\n",
    "\n",
    "            fig.colorbar(c,ax = ax[0],fraction=0.046, pad=0.04,label = \"frames\")\n",
    "\n",
    "            #check the length of the video in case it's a dud\n",
    "            if len(frames) <= 0:\n",
    "                continue\n",
    "            #check the velocity in case it's a dud (but, this might need to be fixed for extremely slow particles)\n",
    "            if v <=0.05:\n",
    "                continue\n",
    "\n",
    "            ax[0].imshow(frames[time_numpy[0]])\n",
    "            ax[0].tick_params(direction=\"in\")\n",
    "            ax[0].set_xlabel(\"x-position [px]\")\n",
    "            ax[0].set_ylabel(\"y-position [px]\")\n",
    "            ax[0].annotate(f\"v_x ={vx:0.2f} [px/fr]\",xy = [100,100])\n",
    "            ax[0].annotate(f\"v_y ={vy:0.2f} [px/fr]\",xy = [100,200])\n",
    "            ax[0].annotate(f\"v ={v:0.2f} [px/fr]\",xy = [100,300])\n",
    "\n",
    "            # plot x coordinates\n",
    "            ax[1].plot(time,x,label = \"raw data\")\n",
    "            ax[1].plot(time,mx[0]*time + mx[1],label = \"fit\")\n",
    "            ax[1].legend()\n",
    "            ax[1].set_xlabel(\"Time [frame]\")\n",
    "            ax[1].set_ylabel(\"x-position [px]\")\n",
    "\n",
    "            # plot y coordinates\n",
    "            ax[2].plot(time,y,label = \"raw data\")\n",
    "            ax[2].plot(time,my[0]*time + my[1],label = \"fit\")\n",
    "            ax[2].legend()\n",
    "            ax[2].set_xlabel(\"Time [frame]\")\n",
    "            ax[2].set_ylabel(\"y-position [px]\")\n",
    "\n",
    "            # print(vx,vy,v)\n",
    "            # fig.savefig(video_name+\"trajectory_overlay_particle\"+f\"{i}.svg\")\n",
    "            # if wanted, this will save the same copy though\n",
    "            fig.savefig(video_name+\"trajectory_overlay_particle\"+f\"{i}.png\")"
   ]
  }
 ],
 "metadata": {
  "kernelspec": {
   "display_name": "Python 3",
   "language": "python",
   "name": "python3"
  },
  "language_info": {
   "codemirror_mode": {
    "name": "ipython",
    "version": 3
   },
   "file_extension": ".py",
   "mimetype": "text/x-python",
   "name": "python",
   "nbconvert_exporter": "python",
   "pygments_lexer": "ipython3",
   "version": "3.11.3"
  }
 },
 "nbformat": 4,
 "nbformat_minor": 2
}
